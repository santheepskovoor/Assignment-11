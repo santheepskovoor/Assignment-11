{
 "cells": [
  {
   "cell_type": "markdown",
   "metadata": {},
   "source": [
    "# Python Basic Programming Assignment 11\n",
    "--------------------"
   ]
  },
  {
   "cell_type": "markdown",
   "metadata": {},
   "source": [
    "### 1. Write a Python program to find words which are greater than given length k?"
   ]
  },
  {
   "cell_type": "code",
   "execution_count": null,
   "metadata": {},
   "outputs": [],
   "source": [
    "str1 =\"This is a test python string for checking.\"\n",
    "split=str1.split()\n",
    "#Ask user to enter the value of K\n",
    "k=int(input(\"Enter the K Value: \"))\n",
    "#create an empty list which the strings can hold \n",
    "empty_str=[]\n",
    "#Now we can create a for loop and iterate throuh each words and use \"if\" condition to filter the values greater that k\n",
    "for i in split:\n",
    "    if len(i)>k:\n",
    "        empty_str.append(i)\n",
    "# now we can print the list\n",
    "print(empty_str)"
   ]
  },
  {
   "cell_type": "markdown",
   "metadata": {},
   "source": [
    "### 2. Write a Python program for removing i-th character from a string?"
   ]
  },
  {
   "cell_type": "code",
   "execution_count": 16,
   "metadata": {},
   "outputs": [
    {
     "name": "stdout",
     "output_type": "stream",
     "text": [
      "original:  Programming\n",
      "After removing:  Proramming\n"
     ]
    }
   ],
   "source": [
    "char=\"Programming\"\n",
    "i=4\n",
    "print(\"original: \",char)\n",
    "# start new string\n",
    "new_s= \"\"\n",
    "# Removing character\n",
    "for j in range(len(char)):\n",
    "    if j!=i-1:\n",
    "        new_s=new_s+char[j]\n",
    "# After removal of character\n",
    "print(\"After removing: \",new_s)"
   ]
  },
  {
   "cell_type": "markdown",
   "metadata": {},
   "source": [
    "### 3. Write a Python program to split and join a string?"
   ]
  },
  {
   "cell_type": "code",
   "execution_count": 22,
   "metadata": {},
   "outputs": [
    {
     "name": "stdout",
     "output_type": "stream",
     "text": [
      "Enter a stringThis is a test python string\n",
      "['This', 'is', 'a', 'test', 'python', 'string']\n",
      "This*is*a*test*python*string\n"
     ]
    }
   ],
   "source": [
    "#input the\n",
    "string=input(\"Enter a string\")\n",
    "#split the string based on the space between the string\n",
    "spl=string.split(\" \")\n",
    "print(spl)\n",
    "\n",
    "#We can join the splitted string with the join statement\n",
    "join_str=\"*\".join(spl)\n",
    "print(join_str)"
   ]
  },
  {
   "cell_type": "markdown",
   "metadata": {},
   "source": [
    "### 4. Write a Python to check if a given string is binary string or not?"
   ]
  },
  {
   "cell_type": "code",
   "execution_count": 4,
   "metadata": {},
   "outputs": [
    {
     "name": "stdout",
     "output_type": "stream",
     "text": [
      "Enter the string: hello how are you\n",
      "hello how are you :is not a binary function\n"
     ]
    }
   ],
   "source": [
    "#enter the sting \n",
    "str=input(\"Enter the string: \")\n",
    "flag = 0\n",
    "for i in str:\n",
    "    if i!=\"0\" and i!=\"1\":\n",
    "        flag=1\n",
    "        break\n",
    "if flag==0:\n",
    "    print(str,\", a binary string\")\n",
    "else:\n",
    "    print(str,\":is not a binary function\")"
   ]
  },
  {
   "cell_type": "markdown",
   "metadata": {},
   "source": [
    "### 5. Write a Python program to find uncommon words from two Strings?"
   ]
  },
  {
   "cell_type": "code",
   "execution_count": 7,
   "metadata": {},
   "outputs": [
    {
     "name": "stdout",
     "output_type": "stream",
     "text": [
      "{'Kevin', 'Prakash'}\n"
     ]
    }
   ],
   "source": [
    "string1=\"Hello how are you Prakash\"\n",
    "string2=\"Hello how are you Kevin\"\n",
    "#Splitting the string and convert them in to set then perform symmetric operation to print the uncommon words\n",
    "print(set(string1.split()) ^ set(string2.split()))"
   ]
  },
  {
   "cell_type": "markdown",
   "metadata": {},
   "source": [
    "### 6. Write a Python to find all duplicate characters in string?"
   ]
  },
  {
   "cell_type": "code",
   "execution_count": 19,
   "metadata": {},
   "outputs": [
    {
     "name": "stdout",
     "output_type": "stream",
     "text": [
      "Counter({'e': 2, 'c': 2, 'i': 2, 'C': 1, 'h': 1, 'k': 1, 'n': 1, 'g': 1, ' ': 1, 'd': 1, 'u': 1, 'p': 1, 'l': 1, 'a': 1, 't': 1})\n"
     ]
    }
   ],
   "source": [
    "#import counter library to check the duplicates\n",
    "from collections import Counter\n",
    "string=\"Checking duplicate\"\n",
    "word=Counter(string)\n",
    "#We can see the repatative words in the string\n",
    "print(word)"
   ]
  },
  {
   "cell_type": "markdown",
   "metadata": {},
   "source": [
    "### 7. Write a Python Program to check if a string contains any special character?"
   ]
  },
  {
   "cell_type": "code",
   "execution_count": 24,
   "metadata": {},
   "outputs": [
    {
     "name": "stdout",
     "output_type": "stream",
     "text": [
      "Enter the string : Hellow!!! How are you??\n",
      "Entered String is  Hellow!!! How are you??\n",
      "The string contains special character(s)\n"
     ]
    }
   ],
   "source": [
    "# to check the special characters,import a regular expression library\n",
    "\n",
    "import re\n",
    "\n",
    "# As the useed to to pass the sinput string \n",
    "string =  input('Enter the string : ')\n",
    "\n",
    "# Checking the string contains special character  \n",
    "regularExp = re.compile('[@_!#$%^&*()<>?/\\|}{~:]') \n",
    "print(\"Entered String is \", string)\n",
    "if(regularExp.search(string) == None):\n",
    "    print(\"The string does not contain special character(s)\")\n",
    "else:\n",
    "    print(\"The string contains special character(s)\")"
   ]
  },
  {
   "cell_type": "code",
   "execution_count": null,
   "metadata": {},
   "outputs": [],
   "source": []
  }
 ],
 "metadata": {
  "kernelspec": {
   "display_name": "Python 3",
   "language": "python",
   "name": "python3"
  },
  "language_info": {
   "codemirror_mode": {
    "name": "ipython",
    "version": 3
   },
   "file_extension": ".py",
   "mimetype": "text/x-python",
   "name": "python",
   "nbconvert_exporter": "python",
   "pygments_lexer": "ipython3",
   "version": "3.8.5"
  }
 },
 "nbformat": 4,
 "nbformat_minor": 5
}
